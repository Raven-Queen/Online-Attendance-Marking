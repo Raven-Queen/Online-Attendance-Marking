{
 "cells": [
  {
   "cell_type": "code",
   "execution_count": 21,
   "source": [
    "import numpy as np\r\n",
    "import tensorflow as tf\r\n",
    "from tensorflow import keras\r\n",
    "from keras.preprocessing.image import ImageDataGenerator\r\n",
    "from keras.callbacks import History\r\n",
    "\r\n",
    "convLayer =4\r\n",
    "maxFilters =100\r\n",
    "maxFiltersize =5\r\n",
    "\r\n",
    "   \r\n",
    "no_of_filtersAsize1 =np.array([96,81,4,32,2,2,2,2])\r\n",
    "no_of_filtersAsize2 =np.array([23,27,9,54,3,3,2,4])\r\n",
    "\r\n",
    "population =np.array([no_of_filtersAsize1,no_of_filtersAsize2])\r\n",
    "def fitness_function(population):\r\n",
    "    train_datagen = ImageDataGenerator(rescale = 1./255,\r\n",
    "                                       shear_range = 0.2,\r\n",
    "                                       zoom_range = 0.2,\r\n",
    "                                       horizontal_flip = True)\r\n",
    "    training_set = train_datagen.flow_from_directory('Train',\r\n",
    "                                                     target_size = (64, 64),\r\n",
    "                                                     batch_size = 32,\r\n",
    "                                                     class_mode = 'categorical')\r\n",
    "    test_datagen = ImageDataGenerator(rescale = 1./255)\r\n",
    "    test_set = test_datagen.flow_from_directory('test',\r\n",
    "                                                        target_size = (64, 64),\r\n",
    "                                                        batch_size = 32,\r\n",
    "                          class_mode = 'categorical')\r\n",
    "\r\n",
    "\r\n",
    "    callbacks = CustomCallback()\r\n",
    "    class CustomCallback(keras.callbacks.Callback):\r\n",
    "        def on_epoch_end(self, epoch,logs={}):\r\n",
    "            print(logs.get('loss'))\r\n",
    "\r\n",
    "                   \r\n",
    "for i in range(len(population)):\r\n",
    "    cnn = tf.keras.models.Sequential()\r\n",
    "    #Layer 1\r\n",
    "    cnn.add(tf.keras.layers.Conv2D(filters=population[i][0], kernel_size=(population[i][4],population[i][4]), activation='relu', input_shape=[64, 64, 3]))\r\n",
    "    cnn.add(tf.keras.layers.MaxPool2D(pool_size=2, strides=2))\r\n",
    "    #Layer 2\r\n",
    "    cnn.add(tf.keras.layers.Conv2D(filters=population[i][1], kernel_size=(population[i][5],population[i][5]), activation='relu'))\r\n",
    "    cnn.add(tf.keras.layers.MaxPool2D(pool_size=2, strides=2))\r\n",
    "\r\n",
    "    #Layer 3\r\n",
    "    cnn.add(tf.keras.layers.Conv2D(filters=population[i][2], kernel_size=(population[i][6],population[i][6]), activation='relu'))\r\n",
    "    cnn.add(tf.keras.layers.MaxPool2D(pool_size=2, strides=2))\r\n",
    "    #Layer 4\r\n",
    "    cnn.add(tf.keras.layers.Conv2D(filters=population[i][3], kernel_size=(population[i][7],population[i][7]), activation='relu'))\r\n",
    "    cnn.add(tf.keras.layers.MaxPool2D(pool_size=2, strides=2))\r\n",
    "\r\n",
    "\r\n",
    "    cnn.add(tf.keras.layers.Flatten())\r\n",
    "    cnn.add(tf.keras.layers.Dense(units=128, activation='relu'))\r\n",
    "    cnn.add(tf.keras.layers.Dense(units=3, activation='softmax'))\r\n",
    "    cnn.compile(optimizer = 'adam', loss = 'categorical_crossentropy', metrics = ['accuracy'])\r\n",
    "    cnn.fit(x = training_set, validation_data = test_set, epochs =3,callbacks =[callbacks])\r\n",
    "   \r\n",
    "model_crossover(loss1,loss2)\r\n",
    "   def model_crossover(p1, p2):\r\n",
    "   \r\n",
    "    if(parent1['loss'][-1] < parent2['loss'][-1]):\r\n",
    "        print(\"parent1\")\r\n",
    "    else:\r\n",
    "        print(\"parent2\")\r\n",
    "    return a[0:p] + b[p:], b[0:p] + a[p:]"
   ],
   "outputs": [
    {
     "output_type": "error",
     "ename": "TypeError",
     "evalue": "'int' object is not subscriptable",
     "traceback": [
      "\u001b[1;31m---------------------------------------------------------------------------\u001b[0m",
      "\u001b[1;31mTypeError\u001b[0m                                 Traceback (most recent call last)",
      "\u001b[1;32mC:\\Users\\RAVENQ~1\\AppData\\Local\\Temp/ipykernel_10720/3158995828.py\u001b[0m in \u001b[0;36m<module>\u001b[1;34m\u001b[0m\n\u001b[0;32m     38\u001b[0m         \u001b[0ma\u001b[0m \u001b[1;33m=\u001b[0m \u001b[1;36m1\u001b[0m\u001b[1;33m\u001b[0m\u001b[1;33m\u001b[0m\u001b[0m\n\u001b[0;32m     39\u001b[0m         \u001b[0mb\u001b[0m \u001b[1;33m=\u001b[0m \u001b[0ma\u001b[0m\u001b[1;33m+\u001b[0m\u001b[1;36m1\u001b[0m\u001b[1;33m\u001b[0m\u001b[1;33m\u001b[0m\u001b[0m\n\u001b[1;32m---> 40\u001b[1;33m     \u001b[0mc\u001b[0m \u001b[1;33m=\u001b[0m \u001b[0msingle_point_crossover\u001b[0m\u001b[1;33m(\u001b[0m\u001b[0mb\u001b[0m\u001b[1;33m[\u001b[0m\u001b[0ma\u001b[0m\u001b[1;33m]\u001b[0m\u001b[1;33m,\u001b[0m \u001b[0mb\u001b[0m\u001b[1;33m[\u001b[0m\u001b[0mb\u001b[0m\u001b[1;33m]\u001b[0m\u001b[1;33m)\u001b[0m\u001b[1;33m\u001b[0m\u001b[1;33m\u001b[0m\u001b[0m\n\u001b[0m\u001b[0;32m     41\u001b[0m     \u001b[0mprint\u001b[0m\u001b[1;33m(\u001b[0m\u001b[0mc\u001b[0m\u001b[1;33m)\u001b[0m\u001b[1;33m\u001b[0m\u001b[1;33m\u001b[0m\u001b[0m\n\u001b[0;32m     42\u001b[0m \u001b[1;33m\u001b[0m\u001b[0m\n",
      "\u001b[1;31mTypeError\u001b[0m: 'int' object is not subscriptable"
     ]
    }
   ],
   "metadata": {}
  },
  {
   "cell_type": "code",
   "execution_count": 7,
   "source": [],
   "outputs": [],
   "metadata": {}
  }
 ],
 "metadata": {
  "orig_nbformat": 4,
  "language_info": {
   "name": "python",
   "version": "3.9.5",
   "mimetype": "text/x-python",
   "codemirror_mode": {
    "name": "ipython",
    "version": 3
   },
   "pygments_lexer": "ipython3",
   "nbconvert_exporter": "python",
   "file_extension": ".py"
  },
  "kernelspec": {
   "name": "python3",
   "display_name": "Python 3.9.5 64-bit"
  },
  "interpreter": {
   "hash": "9569bd1a1f1b2e60ce2ab154fe43040cb918ea1883d60f1f521bf2904bd9e592"
  }
 },
 "nbformat": 4,
 "nbformat_minor": 2
}